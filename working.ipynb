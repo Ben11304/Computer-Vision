{
 "cells": [
  {
   "cell_type": "code",
   "execution_count": 10,
   "metadata": {},
   "outputs": [
    {
     "name": "stderr",
     "output_type": "stream",
     "text": [
      "OpenCV: out device of bound (0-0): 1\n",
      "OpenCV: camera failed to properly initialize!\n"
     ]
    },
    {
     "ename": "AttributeError",
     "evalue": "'NoneType' object has no attribute 'copy'",
     "output_type": "error",
     "traceback": [
      "\u001b[0;31m---------------------------------------------------------------------------\u001b[0m",
      "\u001b[0;31mAttributeError\u001b[0m                            Traceback (most recent call last)",
      "Cell \u001b[0;32mIn[10], line 6\u001b[0m\n\u001b[1;32m      4\u001b[0m \u001b[38;5;28;01mwhile\u001b[39;00m \u001b[38;5;28;01mTrue\u001b[39;00m:\n\u001b[1;32m      5\u001b[0m     _, frame \u001b[38;5;241m=\u001b[39m cap\u001b[38;5;241m.\u001b[39mread()\n\u001b[0;32m----> 6\u001b[0m     frame_copy \u001b[38;5;241m=\u001b[39m \u001b[43mframe\u001b[49m\u001b[38;5;241;43m.\u001b[39;49m\u001b[43mcopy\u001b[49m()\n\u001b[1;32m      7\u001b[0m     hsv\u001b[38;5;241m=\u001b[39mcv2\u001b[38;5;241m.\u001b[39mcvtColor(frame_copy,cv2\u001b[38;5;241m.\u001b[39mCOLOR_BGR2HSV)\n\u001b[1;32m      8\u001b[0m     mask\u001b[38;5;241m=\u001b[39mcv2\u001b[38;5;241m.\u001b[39minRange(hsv,(\u001b[38;5;241m15\u001b[39m,\u001b[38;5;241m15\u001b[39m,\u001b[38;5;241m150\u001b[39m),(\u001b[38;5;241m28\u001b[39m,\u001b[38;5;241m25\u001b[39m,\u001b[38;5;241m255\u001b[39m))\n",
      "\u001b[0;31mAttributeError\u001b[0m: 'NoneType' object has no attribute 'copy'"
     ]
    }
   ],
   "source": [
    "import cv2\n",
    "\n",
    "cap = cv2.VideoCapture(1)\n",
    "while True:\n",
    "    _, frame = cap.read()\n",
    "    frame_copy = frame.copy()\n",
    "    hsv=cv2.cvtColor(frame_copy,cv2.COLOR_BGR2HSV)\n",
    "    mask=cv2.inRange(hsv,(15,15,150),(28,25,255))\n",
    "    whitened_image = cv2.bitwise_and(frame_copy,frame_copy, mask=mask)\n",
    "    cv2.imshow(\"hsv\",hsv)\n",
    "    cv2.imshow(\"mask\",mask)\n",
    "    cv2.imshow(\"bgr\",whitened_image)\n",
    "    \n",
    "    if cv2.waitKey(1) & 0xFF == 27:\n",
    "        break\n",
    "cv2.destroyAllWindows()"
   ]
  },
  {
   "cell_type": "code",
   "execution_count": null,
   "metadata": {},
   "outputs": [
    {
     "name": "stderr",
     "output_type": "stream",
     "text": [
      "2024-05-05 22:13:52.966 Python[15119:788643] WARNING: AVCaptureDeviceTypeExternal is deprecated for Continuity Cameras. Please use AVCaptureDeviceTypeContinuityCamera and add NSCameraUseContinuityCameraDeviceType to your Info.plist.\n",
      "2024-05-05 22:13:53.299 Python[15119:788643] WARNING: Secure coding is not enabled for restorable state! Enable secure coding by implementing NSApplicationDelegate.applicationSupportsSecureRestorableState: and returning YES.\n"
     ]
    }
   ],
   "source": [
    "import cv2\n",
    "import numpy as np\n",
    "\n",
    "cap = cv2.VideoCapture(1)\n",
    "while True:\n",
    "    _, frame = cap.read()\n",
    "    frame_copy = frame.copy()\n",
    "    hsv = cv2.cvtColor(frame_copy, cv2.COLOR_BGR2HSV)\n",
    "    mask = cv2.inRange(hsv, (15, 15, 50), (28, 25, 300))\n",
    "\n",
    "    # Tạo ảnh trắng có cùng kích thước với frame\n",
    "    white_image = np.ones_like(frame) * 255\n",
    "\n",
    "    # Áp dụng mask: các điểm ảnh trong mask được tô trắng\n",
    "    result_image = cv2.bitwise_or(white_image, white_image, mask=mask)\n",
    "\n",
    "    cv2.imshow(\"HSV\", hsv)\n",
    "    cv2.imshow(\"Mask\", mask)\n",
    "    cv2.imshow(\"Result\", result_image)\n",
    "    \n",
    "    if cv2.waitKey(1) & 0xFF == 27:\n",
    "        break\n",
    "\n",
    "cv2.destroyAllWindows()\n"
   ]
  },
  {
   "cell_type": "code",
   "execution_count": 1,
   "metadata": {},
   "outputs": [
    {
     "name": "stderr",
     "output_type": "stream",
     "text": [
      "2024-05-05 22:20:28.180 Python[15228:795276] WARNING: AVCaptureDeviceTypeExternal is deprecated for Continuity Cameras. Please use AVCaptureDeviceTypeContinuityCamera and add NSCameraUseContinuityCameraDeviceType to your Info.plist.\n",
      "2024-05-05 22:20:29.973 Python[15228:795276] WARNING: Secure coding is not enabled for restorable state! Enable secure coding by implementing NSApplicationDelegate.applicationSupportsSecureRestorableState: and returning YES.\n"
     ]
    },
    {
     "name": "stdout",
     "output_type": "stream",
     "text": [
      "HSV value at point (1679, 11): [ 15 114 185]\n"
     ]
    }
   ],
   "source": [
    "import cv2\n",
    "import pandas as pd\n",
    "import numpy as np\n",
    "paper=[]\n",
    "\n",
    "def get_hsv_values(event, x, y, flags, param):\n",
    "    if event == cv2.EVENT_LBUTTONDOWN:\n",
    "        hsv_value = hsv_image[y, x]\n",
    "        paper.append(hsv_value)\n",
    "        print(\"HSV value at point ({}, {}): {}\".format(x, y, hsv_value))\n",
    "\n",
    "# Khởi tạo camera\n",
    "cap = cv2.VideoCapture(1)\n",
    "\n",
    "# Thiết lập sự kiện cho việc nhấp chuột\n",
    "cv2.namedWindow('Camera Feed')\n",
    "cv2.setMouseCallback('Camera Feed', get_hsv_values)\n",
    "\n",
    "while True:\n",
    "    # Đọc frame từ camera\n",
    "    ret, frame = cap.read()\n",
    "\n",
    "    # Chuyển đổi frame từ không gian màu BGR sang HSV\n",
    "    hsv_image = cv2.cvtColor(frame, cv2.COLOR_BGR2HSV)\n",
    "    mask=cv2.inRange(hsv_image,(15,5,150),(28,55,255))\n",
    "    # Hiển thị frame\n",
    "    cv2.imshow('Camera Feed', frame)\n",
    "    cv2.imshow('masked', mask)\n",
    "    # Thoát vòng lặp nếu nhấn phím 'q'\n",
    "    if cv2.waitKey(1) & 0xFF == ord('q'):\n",
    "        # paper.to_csv(\"/Users/mac/Dev/Computer_Vision/Computer-Vision/outputs/HSV/paper.csv\")\n",
    "        break\n",
    "\n",
    "# Giải phóng camera và đóng cửa sổ\n",
    "cap.release()\n",
    "cv2.destroyAllWindows()\n"
   ]
  },
  {
   "cell_type": "code",
   "execution_count": null,
   "metadata": {},
   "outputs": [
    {
     "data": {
      "text/plain": [
       "[array([ 21,  27, 230], dtype=uint8),\n",
       " array([ 23,  26, 229], dtype=uint8),\n",
       " array([ 21,  27, 230], dtype=uint8),\n",
       " array([ 20,  23, 230], dtype=uint8),\n",
       " array([ 18,  30, 222], dtype=uint8),\n",
       " array([ 23,  26, 229], dtype=uint8),\n",
       " array([ 23,  22, 230], dtype=uint8),\n",
       " array([ 23,  22, 230], dtype=uint8),\n",
       " array([ 20,  26, 232], dtype=uint8),\n",
       " array([ 18,  27, 223], dtype=uint8),\n",
       " array([ 18,  30, 223], dtype=uint8),\n",
       " array([ 17,  32, 224], dtype=uint8),\n",
       " array([ 18,  30, 223], dtype=uint8),\n",
       " array([ 21,  26, 233], dtype=uint8),\n",
       " array([ 21,  26, 233], dtype=uint8),\n",
       " array([ 20,  30, 240], dtype=uint8),\n",
       " array([ 21,  32, 237], dtype=uint8),\n",
       " array([ 20,  30, 237], dtype=uint8),\n",
       " array([ 20,  30, 240], dtype=uint8),\n",
       " array([ 21,  32, 237], dtype=uint8),\n",
       " array([ 21,  33, 233], dtype=uint8),\n",
       " array([ 20,  29, 232], dtype=uint8),\n",
       " array([ 21,  26, 233], dtype=uint8),\n",
       " array([ 20,  28, 239], dtype=uint8),\n",
       " array([ 19,  27, 240], dtype=uint8),\n",
       " array([ 19,  30, 242], dtype=uint8),\n",
       " array([ 21,  25, 241], dtype=uint8),\n",
       " array([ 21,  25, 241], dtype=uint8),\n",
       " array([ 19,  23, 241], dtype=uint8),\n",
       " array([ 19,  23, 240], dtype=uint8),\n",
       " array([ 18,  24, 240], dtype=uint8),\n",
       " array([ 17,  25, 239], dtype=uint8),\n",
       " array([ 17,  25, 239], dtype=uint8),\n",
       " array([ 17,  25, 239], dtype=uint8),\n",
       " array([ 16,  23, 242], dtype=uint8),\n",
       " array([ 16,  22, 240], dtype=uint8),\n",
       " array([ 18,  26, 237], dtype=uint8),\n",
       " array([ 18,  26, 237], dtype=uint8),\n",
       " array([ 19,  22, 222], dtype=uint8),\n",
       " array([ 19,  22, 222], dtype=uint8),\n",
       " array([ 14,  26, 183], dtype=uint8),\n",
       " array([ 17,  20, 232], dtype=uint8),\n",
       " array([ 23,  14, 215], dtype=uint8),\n",
       " array([ 20,  14, 212], dtype=uint8),\n",
       " array([ 27,  11, 224], dtype=uint8),\n",
       " array([ 27,  11, 225], dtype=uint8),\n",
       " array([ 27,  11, 225], dtype=uint8),\n",
       " array([ 27,  11, 223], dtype=uint8),\n",
       " array([ 27,  12, 220], dtype=uint8),\n",
       " array([ 18,  12, 213], dtype=uint8),\n",
       " array([ 21,  11, 223], dtype=uint8),\n",
       " array([ 25,   7, 227], dtype=uint8),\n",
       " array([ 25,   7, 225], dtype=uint8),\n",
       " array([ 25,   7, 225], dtype=uint8),\n",
       " array([ 18,  11, 233], dtype=uint8),\n",
       " array([ 18,  11, 232], dtype=uint8),\n",
       " array([ 18,  11, 232], dtype=uint8),\n",
       " array([ 21,  11, 230], dtype=uint8),\n",
       " array([ 18,  11, 227], dtype=uint8),\n",
       " array([ 18,  11, 227], dtype=uint8),\n",
       " array([ 18,  11, 227], dtype=uint8),\n",
       " array([ 15,  13, 230], dtype=uint8),\n",
       " array([ 15,  13, 230], dtype=uint8),\n",
       " array([ 10,  10, 232], dtype=uint8),\n",
       " array([ 12,  11, 230], dtype=uint8),\n",
       " array([ 10,  10, 232], dtype=uint8),\n",
       " array([ 10,  10, 232], dtype=uint8),\n",
       " array([ 15,  13, 231], dtype=uint8),\n",
       " array([ 18,  11, 228], dtype=uint8),\n",
       " array([ 18,  11, 228], dtype=uint8),\n",
       " array([ 15,  14, 214], dtype=uint8),\n",
       " array([ 15,  13, 231], dtype=uint8),\n",
       " array([ 21,  11, 229], dtype=uint8),\n",
       " array([ 15,  13, 231], dtype=uint8),\n",
       " array([ 12,  11, 230], dtype=uint8),\n",
       " array([ 15,  13, 231], dtype=uint8),\n",
       " array([ 15,  13, 231], dtype=uint8),\n",
       " array([ 15,  13, 230], dtype=uint8),\n",
       " array([ 26,   9, 226], dtype=uint8),\n",
       " array([ 15,  13, 232], dtype=uint8)]"
      ]
     },
     "execution_count": 4,
     "metadata": {},
     "output_type": "execute_result"
    }
   ],
   "source": [
    "paper"
   ]
  },
  {
   "cell_type": "code",
   "execution_count": null,
   "metadata": {},
   "outputs": [],
   "source": []
  }
 ],
 "metadata": {
  "kernelspec": {
   "display_name": "DocScanner",
   "language": "python",
   "name": "python3"
  },
  "language_info": {
   "codemirror_mode": {
    "name": "ipython",
    "version": 3
   },
   "file_extension": ".py",
   "mimetype": "text/x-python",
   "name": "python",
   "nbconvert_exporter": "python",
   "pygments_lexer": "ipython3",
   "version": "3.11.4"
  }
 },
 "nbformat": 4,
 "nbformat_minor": 2
}
